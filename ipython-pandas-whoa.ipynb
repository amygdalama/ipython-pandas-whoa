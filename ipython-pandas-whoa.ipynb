{
 "metadata": {
  "name": ""
 },
 "nbformat": 3,
 "nbformat_minor": 0,
 "worksheets": [
  {
   "cells": [
    {
     "cell_type": "markdown",
     "metadata": {},
     "source": [
      "Let's look at the classic iris dataset.\n",
      "\n",
      "First we need tell ipython that we want our plots to show up within the notebook, rather than within a separate window. We can do this with a magic command, which is the name in ipython for a command that starts with a %."
     ]
    },
    {
     "cell_type": "code",
     "collapsed": false,
     "input": [
      "%matplotlib inline"
     ],
     "language": "python",
     "metadata": {},
     "outputs": [],
     "prompt_number": 2
    },
    {
     "cell_type": "markdown",
     "metadata": {},
     "source": [
      "Next we have our import statements. We'll need matplotlib.pyplot for visualization and pandas to use data frames."
     ]
    },
    {
     "cell_type": "code",
     "collapsed": false,
     "input": [
      "import matplotlib.pyplot as plt\n",
      "import pandas as pd"
     ],
     "language": "python",
     "metadata": {},
     "outputs": [],
     "prompt_number": 3
    },
    {
     "cell_type": "markdown",
     "metadata": {},
     "source": [
      "Now we need to import the iris dataset. In our .py script, this was eight lines of code. With pandas, it's just three!"
     ]
    },
    {
     "cell_type": "code",
     "collapsed": false,
     "input": [
      "url = \"http://mlr.cs.umass.edu/ml/machine-learning-databases/iris/iris.data\"\n",
      "\n",
      "# Define our headers since the url doesn't contain explicit headers\n",
      "# I found these headers from looking at the documentation at\n",
      "# http://mlr.cs.umass.edu/ml/machine-learning-databases/iris/iris.names\n",
      "headers = ['Sepal Length', 'Sepal Width', 'Petal Length', 'Petal Width', 'Class'\n",
      "\t]\n",
      "iris = pd.read_csv(url, header=None, names=headers)"
     ],
     "language": "python",
     "metadata": {},
     "outputs": [],
     "prompt_number": 4
    },
    {
     "cell_type": "markdown",
     "metadata": {},
     "source": [
      "Let's see what the data looks like."
     ]
    },
    {
     "cell_type": "code",
     "collapsed": false,
     "input": [
      "iris[:3]"
     ],
     "language": "python",
     "metadata": {},
     "outputs": [
      {
       "html": [
        "<div style=\"max-height:1000px;max-width:1500px;overflow:auto;\">\n",
        "<table border=\"1\" class=\"dataframe\">\n",
        "  <thead>\n",
        "    <tr style=\"text-align: right;\">\n",
        "      <th></th>\n",
        "      <th>Sepal Length</th>\n",
        "      <th>Sepal Width</th>\n",
        "      <th>Petal Length</th>\n",
        "      <th>Petal Width</th>\n",
        "      <th>Class</th>\n",
        "    </tr>\n",
        "  </thead>\n",
        "  <tbody>\n",
        "    <tr>\n",
        "      <th>0</th>\n",
        "      <td> 5.1</td>\n",
        "      <td> 3.5</td>\n",
        "      <td> 1.4</td>\n",
        "      <td> 0.2</td>\n",
        "      <td> Iris-setosa</td>\n",
        "    </tr>\n",
        "    <tr>\n",
        "      <th>1</th>\n",
        "      <td> 4.9</td>\n",
        "      <td> 3.0</td>\n",
        "      <td> 1.4</td>\n",
        "      <td> 0.2</td>\n",
        "      <td> Iris-setosa</td>\n",
        "    </tr>\n",
        "    <tr>\n",
        "      <th>2</th>\n",
        "      <td> 4.7</td>\n",
        "      <td> 3.2</td>\n",
        "      <td> 1.3</td>\n",
        "      <td> 0.2</td>\n",
        "      <td> Iris-setosa</td>\n",
        "    </tr>\n",
        "  </tbody>\n",
        "</table>\n",
        "<p>3 rows \u00d7 5 columns</p>\n",
        "</div>"
       ],
       "metadata": {},
       "output_type": "pyout",
       "prompt_number": 5,
       "text": [
        "   Sepal Length  Sepal Width  Petal Length  Petal Width        Class\n",
        "0           5.1          3.5           1.4          0.2  Iris-setosa\n",
        "1           4.9          3.0           1.4          0.2  Iris-setosa\n",
        "2           4.7          3.2           1.3          0.2  Iris-setosa\n",
        "\n",
        "[3 rows x 5 columns]"
       ]
      }
     ],
     "prompt_number": 5
    },
    {
     "cell_type": "markdown",
     "metadata": {},
     "source": [
      "Now let's plot a histogram for the Sepal Length column."
     ]
    },
    {
     "cell_type": "code",
     "collapsed": false,
     "input": [
      "# I use two brackets around 'Sepal Length' to force pandas to make this\n",
      "# a data frame rather than just a series, which is like a numpy array.\n",
      "# The brackets here aren't necessary, but makes printing sepal_lengths\n",
      "# prettier and makes it easier for us to combine sepal_lengths with other\n",
      "# data.\n",
      "sepal_lengths = iris[['Sepal Length']]\n",
      "\n",
      "# Make the plot pretty!\n",
      "pd.set_option('display.mpl_style', 'default') \n",
      "\n",
      "sepal_lengths.hist()"
     ],
     "language": "python",
     "metadata": {},
     "outputs": [
      {
       "metadata": {},
       "output_type": "pyout",
       "prompt_number": 6,
       "text": [
        "array([[<matplotlib.axes.AxesSubplot object at 0x107fd6210>]], dtype=object)"
       ]
      },
      {
       "metadata": {},
       "output_type": "display_data",
       "png": "[encoded data removed]",
       "text": [
        "<matplotlib.figure.Figure at 0x107fd6c50>"
       ]
      }
     ],
     "prompt_number": 6
    }
   ],
   "metadata": {}
  }
 ]
}